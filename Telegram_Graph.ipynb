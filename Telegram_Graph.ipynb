{
 "cells": [
  {
   "cell_type": "code",
   "execution_count": 1,
   "id": "b9214a85",
   "metadata": {
    "scrolled": true
   },
   "outputs": [
    {
     "name": "stdout",
     "output_type": "stream",
     "text": [
      "<zip object at 0x000001B80B6015C0>\n"
     ]
    }
   ],
   "source": [
    "from pyvis.network import Network\n",
    "import pandas as pd\n",
    "\n",
    "got_net = Network(height='100%', width='100%')\n",
    "#got_net = Network(height=900, width=900)\n",
    "\n",
    "got_net.barnes_hut()\n",
    "\n",
    "got_data = pd.read_excel('df.xlsx')\n",
    "\n",
    "sources = got_data['first']\n",
    "targets = got_data['second']\n",
    "weights = got_data['val']\n",
    "\n",
    "edge_data = zip(sources, targets, weights)\n",
    "print (edge_data)\n",
    "for e in edge_data:\n",
    "    src = e[0]\n",
    "    dst = e[1]\n",
    "    w = e[2]\n",
    "    t = int(e[2]*100)\n",
    "    \n",
    "    got_net.add_node(src, src, title=src)\n",
    "    got_net.add_node(dst, dst, title=dst)\n",
    "    got_net.add_edge(src, dst, value=w, title=t)\n",
    "\n",
    "# https://pyvis.readthedocs.io/en/latest/documentation.html#pyvis.network.Network.get_adj_list\n",
    "neighbor_map = got_net.get_adj_list()\n",
    "\n",
    "# добавить данные о соседях в узлы\n",
    "for node in got_net.nodes:\n",
    "    node['title'] += ' Neighbors:<br>' + '<br>'.join(neighbor_map[node['id']])\n",
    "    node['value'] = len(neighbor_map[node['id']])\n",
    "\n",
    "\n",
    "#got_net.show_buttons() ## выскочат настройки графа\n",
    "got_net.set_options(\"\"\"var options = {\n",
    "  \"nodes\": {\n",
    "    \"color\": {\n",
    "      \"highlight\": {\n",
    "        \"border\": \"rgba(255,0,15,1)\",\n",
    "        \"background\": \"rgba(255,13,12,1)\"\n",
    "      },\n",
    "      \"hover\": {\n",
    "        \"border\": \"rgba(255,24,40,1)\",\n",
    "        \"background\": \"rgba(255,0,4,1)\"\n",
    "      }\n",
    "    },\n",
    "    \"font\": {\n",
    "      \"size\": 70,\n",
    "      \"strokeWidth\": 7\n",
    "    }\n",
    "  },\n",
    "  \"edges\": {\n",
    "    \"color\": {\n",
    "      \"inherit\": true\n",
    "    },\n",
    "    \"smooth\": false\n",
    "  },\n",
    "  \"interaction\": {\n",
    "    \"multiselect\": true,\n",
    "    \"navigationButtons\": true\n",
    "  },\n",
    "  \"manipulation\": {\n",
    "    \"enabled\": true\n",
    "  },\n",
    "  \"physics\": {\n",
    "    \"barnesHut\": {\n",
    "      \"gravitationalConstant\": -80000,\n",
    "      \"springLength\": 250,\n",
    "      \"springConstant\": 0.001\n",
    "    },\n",
    "    \"minVelocity\": 0.75\n",
    "  }\n",
    "}\"\"\")\n",
    "\n",
    "\n",
    "got_net.show('df.html')"
   ]
  },
  {
   "cell_type": "code",
   "execution_count": null,
   "id": "00eee260",
   "metadata": {},
   "outputs": [],
   "source": []
  }
 ],
 "metadata": {
  "kernelspec": {
   "display_name": "Python 3 (ipykernel)",
   "language": "python",
   "name": "python3"
  },
  "language_info": {
   "codemirror_mode": {
    "name": "ipython",
    "version": 3
   },
   "file_extension": ".py",
   "mimetype": "text/x-python",
   "name": "python",
   "nbconvert_exporter": "python",
   "pygments_lexer": "ipython3",
   "version": "3.9.7"
  }
 },
 "nbformat": 4,
 "nbformat_minor": 5
}
